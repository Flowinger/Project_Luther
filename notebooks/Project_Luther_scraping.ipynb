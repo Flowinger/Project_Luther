{
 "cells": [
  {
   "cell_type": "code",
   "execution_count": 3,
   "metadata": {
    "collapsed": false
   },
   "outputs": [],
   "source": [
    "import pandas as pd\n",
    "import requests\n",
    "from dateutil.parser import parse\n",
    "import re\n",
    "import numpy as np\n",
    "from bs4 import BeautifulSoup\n",
    "from fake_useragent import UserAgent\n",
    "\n",
    "url = 'http://www.transfermarkt.com/manuel-neuer/profil/spieler/17259'\n"
   ]
  },
  {
   "cell_type": "code",
   "execution_count": 4,
   "metadata": {
    "collapsed": false
   },
   "outputs": [],
   "source": [
    "link = 'http://www.transfermarkt.com/manuel-neuer/profil/spieler/17259'\n",
    "\n",
    "def soup(url):\n",
    "    '''Get HTML code as text.'''\n",
    "    response = requests.get(url)\n",
    "    ua = UserAgent()\n",
    "    user_agent = {'User-agent': ua.random}\n",
    "    print(user_agent)\n",
    "    response = requests.get(url, headers = user_agent)\n",
    "    \n",
    "    print('Response code:',response.status_code)\n",
    "    page = response.text\n",
    "    soup = BeautifulSoup(page, \"lxml\")\n",
    "    \n",
    "    return soup"
   ]
  },
  {
   "cell_type": "code",
   "execution_count": 5,
   "metadata": {
    "collapsed": false
   },
   "outputs": [
    {
     "name": "stdout",
     "output_type": "stream",
     "text": [
      "{'User-agent': 'Mozilla/5.0 (X11; Linux x86_64) AppleWebKit/537.36 (KHTML, like Gecko) Chrome/33.0.1750.517 Safari/537.36'}\n",
      "Response code: 200\n"
     ]
    }
   ],
   "source": [
    "soup = soup(link)"
   ]
  },
  {
   "cell_type": "markdown",
   "metadata": {},
   "source": [
    "### Functions for scraping features from each player site"
   ]
  },
  {
   "cell_type": "code",
   "execution_count": 189,
   "metadata": {
    "collapsed": false
   },
   "outputs": [],
   "source": [
    "infos = ['Date of birth:','Place of birth:','Age:','Height:','Nationality:','Position:','Foot:',\"\"\"Player's agent:\"\"\",\\\n",
    "         'Current club:','In the team since:','Contract until:','Date of last contract extension:','Outfitter:']\n",
    "\n",
    "def player_name(soup):\n",
    "    '''Get a name of a soccer player.'''\n",
    "    return soup.find_all('title')[0].text.split(' -')[0]\n",
    "\n",
    "def player_values(soup, field_name):\n",
    "\n",
    "    obj = soup.find(text=re.compile(field_name))\n",
    "    if not obj: \n",
    "        return None\n",
    "    # this works for most of the values\n",
    "    next = obj.findNext()\n",
    "    if next:\n",
    "        return next.text.strip()\n",
    "    else:\n",
    "        return None\n",
    "\n",
    "def market_values(soup):\n",
    "    '''Get a soccer players market value.'''\n",
    "    values = []\n",
    "    obj = soup.find_all(class_=re.compile('left-td'))\n",
    "    for x in obj:\n",
    "        value = x.findNextSibling().text.strip()\n",
    "        \n",
    "        if '\\n' in value:\n",
    "            value = value.split('\\n')\n",
    "            value1, value2 = value\n",
    "            value1 = value1.replace('\\t','')\n",
    "            values.append(change_euro_value(value1))\n",
    "            values.append(change_euro_value(value2))\n",
    "        else:\n",
    "            values.append(change_euro_value(value))\n",
    "    return values\n",
    "        \n",
    "def transfer_proceeds(soup):\n",
    "    '''Get a soccer players total career transfer proceeds.'''\n",
    "    transfer_proceeds = soup.find('tfoot').text.strip().split('\\n')[2]\n",
    "    return change_euro_value(transfer_proceeds)\n",
    "\n",
    "def performance(soup):\n",
    "    '''Get a soccer players performance stats.'''\n",
    "    values = []\n",
    "    for i in soup.find_all('table')[2].find_all('td')[2:7]:\n",
    "        values.append(i.text.replace('.',''))\n",
    "    return values\n",
    "\n",
    "def wc_winner(soup):\n",
    "    '''Get a soccer players information if he has won the World Cup (1) or not (0).'''\n",
    "    if soup.find('img', {'alt': 'World Cup winner'}) in soup.find_all('img'):\n",
    "        return 1\n",
    "    else:\n",
    "        return 0\n",
    "\n",
    "def cl_winner(soup):\n",
    "    '''Get a soccer players information if he has won the Champions League (1) or not (0).'''\n",
    "    if soup.find('img', {'alt': 'Champions League winner'}) in soup.find_all('img'):\n",
    "        return 1\n",
    "    else:\n",
    "        return 0\n",
    "\n",
    "def player_international_exp(soup):\n",
    "    '''Get a soccer players total international appearances.'''\n",
    "    try:\n",
    "        return soup.find(text=re.compile('International caps/goals:')).findNext().text.split('/')[0]\n",
    "    except:\n",
    "        return None\n",
    "\n",
    "def scrape_int_exp(soup):\n",
    "    '''Get a soccer players total international appearances.'''\n",
    "    inf = []\n",
    "    int_exp = player_international_exp(soup)\n",
    "    name = player_name(soup)\n",
    "    inf.append(name)\n",
    "    inf.append(int_exp)\n",
    "    return tuple(inf)"
   ]
  },
  {
   "cell_type": "code",
   "execution_count": 190,
   "metadata": {
    "collapsed": true
   },
   "outputs": [],
   "source": [
    "def change_euro_value(value):\n",
    "    '''Clean market values to get an integer.'''\n",
    "    value = value.replace(' Th. €', '000')\n",
    "    value = value.replace(' Mill. €','0000')\n",
    "    value = value.replace(',','')\n",
    "    value = value.replace('\\t','')\n",
    "    value = value.replace('\\n','')\n",
    "    return value\n",
    "\n",
    "def get_soup(url):\n",
    "    '''HTML source code in text.'''\n",
    "    ua = UserAgent()\n",
    "    user_agent = {'User-agent': ua.random}\n",
    "    response = requests.get(url, headers = user_agent)\n",
    "    page = response.text\n",
    "    soup = BeautifulSoup(page, \"lxml\")\n",
    "    return soup\n"
   ]
  },
  {
   "cell_type": "code",
   "execution_count": 191,
   "metadata": {
    "collapsed": false
   },
   "outputs": [],
   "source": [
    "def create_player(soup):\n",
    "    player_info = []\n",
    "    player_columns = ['name','date_of_birth','place_of_birth','age','height','nationality','position', \\\n",
    "                 'foot','agency','current_club','in_team_since','contract_until', \\\n",
    "                 'date_last_contract_extension','outfitter', \\\n",
    "                  'current_market_value','date_last_market_value_change','highest_market_value', \\\n",
    "                  'date_highest_market_value', 'total_transfer_proceeds','apps_season','goals_season',\\\n",
    "                 'assists_season','minute_per_goal','played_minutes','wc_winner','cl_winner']\n",
    "    infos = ['Date of birth:','Place of birth:','Age:','Height:','Nationality:','Position:','Foot:',\"\"\"Player's agent:\"\"\",\\\n",
    "         'Current club:','In the team since:','Contract until:','Date of last contract extension:','Outfitter:']\n",
    "    # add player name\n",
    "    player_info.append(player_name(soup))\n",
    "    \n",
    "    # add standard player values\n",
    "    for value in infos:\n",
    "        player_info.append(player_values(soup, value))\n",
    "        \n",
    "    # add market value infos\n",
    "    for value in market_values(soup):\n",
    "        player_info.append(value)\n",
    "        \n",
    "    # add transfer proceeds\n",
    "    player_info.append(transfer_proceeds(soup))\n",
    "    \n",
    "    # add performance data\n",
    "    for value in performance(soup):\n",
    "        player_info.append(value)\n",
    "        \n",
    "    # add if World Cup or Champions League winner (0/1)\n",
    "    player_info.append(wc_winner(soup))\n",
    "    player_info.append(cl_winner(soup))\n",
    "    \n",
    "    return tuple(player_info)"
   ]
  },
  {
   "cell_type": "markdown",
   "metadata": {},
   "source": [
    "### Get all links for scraping"
   ]
  },
  {
   "cell_type": "code",
   "execution_count": 192,
   "metadata": {
    "collapsed": true
   },
   "outputs": [],
   "source": [
    "def get_club_urls(soup):\n",
    "    '''Get all links of all clubs in all of the first 2 leagues in top5 countries.'''\n",
    "    urls = []\n",
    "    for url in soup.find_all('tr', {'class': 'odd'}):\n",
    "        if url.find('a')['href'] != '#':\n",
    "            urls.append(url.find('a')['href'])\n",
    "    for url2 in soup.find_all('tr', {'class': 'even'}):\n",
    "        if url2.find('a')['href'] != '#':\n",
    "            urls.append(url2.find('a')['href'])\n",
    "    return urls\n",
    "\n",
    "def get_player_urls(soup):\n",
    "    '''Get every URL of players in each club.'''\n",
    "    player_urls = []\n",
    "    for i in soup.find_all('a', {'class': 'spielprofil_tooltip'}):\n",
    "        player_url = 'http://www.transfermarkt.com' + i['href']\n",
    "        if player_url not in player_urls:\n",
    "            player_urls.append(player_url)\n",
    "    return player_urls\n",
    "\n",
    "def scrape_club(soup):\n",
    "    '''Get every URL of players in each club.'''\n",
    "    for i in get_player_urls(club):\n",
    "        #print(i)\n",
    "        soup = get_soup(i)\n",
    "        player = create_player(soup)\n",
    "        df = df.append(player, ignore_index=True)\n"
   ]
  },
  {
   "cell_type": "markdown",
   "metadata": {},
   "source": [
    "### Scraping links of all clubs.\n",
    "All URLs of first 2 leagues of each country: Germany, UK, France, Spain, Italy"
   ]
  },
  {
   "cell_type": "code",
   "execution_count": 193,
   "metadata": {
    "collapsed": false,
    "scrolled": true
   },
   "outputs": [],
   "source": [
    "def URLs():\n",
    "    leagues = ['L1','L2','GB1','GB2','FR1','FR2','ES1','ES2','IT1','IT2']\n",
    "    league_urls = ['http://www.transfermarkt.com/jumplist/startseite/wettbewerb/'+ x for x in leagues]\n",
    "    club_urls = [get_club_urls(get_soup(league)) for league in league_urls]\n",
    "    player_urls = [get_player_urls(get_soup('http://www.transfermarkt.com/'+club)) for clubs in club_urls for club in clubs]\n",
    "    return club_urls, player_urls"
   ]
  },
  {
   "cell_type": "code",
   "execution_count": 242,
   "metadata": {
    "collapsed": true
   },
   "outputs": [],
   "source": [
    "club_urls, player_urls = URLs()"
   ]
  },
  {
   "cell_type": "markdown",
   "metadata": {},
   "source": [
    "#### Scrape team by team (204 total) and save players in list 'players'. Pop the scraped teams from the link list."
   ]
  },
  {
   "cell_type": "code",
   "execution_count": 457,
   "metadata": {
    "collapsed": false
   },
   "outputs": [
    {
     "data": {
      "text/plain": [
       "204"
      ]
     },
     "execution_count": 457,
     "metadata": {},
     "output_type": "execute_result"
    }
   ],
   "source": [
    "players = []\n",
    "scraped_links = []\n",
    "len(player_urls)"
   ]
  },
  {
   "cell_type": "code",
   "execution_count": 541,
   "metadata": {
    "collapsed": false
   },
   "outputs": [],
   "source": [
    "while len(player_urls) > 0:\n",
    "    for player in player_urls[0]:\n",
    "        player_soup = get_soup(player)\n",
    "        players.append(create_player(player_soup))\n",
    "    scraped_links.append(player_urls.pop(0))"
   ]
  },
  {
   "cell_type": "code",
   "execution_count": 77,
   "metadata": {
    "collapsed": false,
    "scrolled": true
   },
   "outputs": [],
   "source": [
    "player_columns = ['name','date_of_birth','place_of_birth','age','height','nationality','position', \\\n",
    "                 'foot','agency','current_club','in_team_since','contract_until', \\\n",
    "                 'date_last_contract_extension','outfitter', \\\n",
    "                  'current_market_value','date_last_market_value_change','highest_market_value', \\\n",
    "                  'date_highest_market_value', 'total_transfer_proceeds','apps_season','goals_season',\\\n",
    "                 'assists_season','minute_per_goal','played_minutes','wc_winner','cl_winner']"
   ]
  },
  {
   "cell_type": "markdown",
   "metadata": {},
   "source": [
    "Save and load pickles"
   ]
  },
  {
   "cell_type": "code",
   "execution_count": 370,
   "metadata": {
    "collapsed": false
   },
   "outputs": [],
   "source": [
    "import pickle\n",
    "import datetime\n",
    "\n",
    "def save_df(df):\n",
    "    day = datetime.datetime.now().day\n",
    "    hour = datetime.datetime.now().hour\n",
    "    minute = datetime.datetime.now().minute\n",
    "    with open('soccer_scrape_'+str(day)+'-'+str(hour)+'h-'+str(minute)+'m.pkl', 'wb') as picklefile:\n",
    "        pickle.dump(df, picklefile)\n",
    "def load_df(filename):\n",
    "    with open(filename, 'rb') as picklefile: \n",
    "        last_version = pickle.load(picklefile)"
   ]
  }
 ],
 "metadata": {
  "anaconda-cloud": {},
  "kernelspec": {
   "display_name": "Python [conda root]",
   "language": "python",
   "name": "conda-root-py"
  },
  "language_info": {
   "codemirror_mode": {
    "name": "ipython",
    "version": 3
   },
   "file_extension": ".py",
   "mimetype": "text/x-python",
   "name": "python",
   "nbconvert_exporter": "python",
   "pygments_lexer": "ipython3",
   "version": "3.5.2"
  }
 },
 "nbformat": 4,
 "nbformat_minor": 1
}
